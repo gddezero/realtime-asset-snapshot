{
 "cells": [
  {
   "cell_type": "code",
   "execution_count": 1,
   "id": "38d3aa99-73c7-46db-b413-e924b9541601",
   "metadata": {},
   "outputs": [],
   "source": [
    "import json\n",
    "from apache_beam.transforms.trigger import AfterProcessingTime, AccumulationMode\n",
    "import apache_beam as beam\n",
    "from apache_beam.runners.interactive import interactive_runner\n",
    "import apache_beam.runners.interactive.interactive_beam as ib\n",
    "from apache_beam.transforms import trigger\n",
    "from apache_beam.options import pipeline_options\n",
    "from apache_beam.options.pipeline_options import GoogleCloudOptions\n",
    "from apache_beam.io.gcp.bigtableio import WriteToBigTable\n",
    "from apache_beam.io.textio import WriteToText\n",
    "import google.auth\n",
    "import datetime\n",
    "\n",
    "subscription = \"projects/forrest-test-project-333203/subscriptions/assetSnapshotService\"\n",
    "project_id = \"forrest-test-project-333203\"\n",
    "instance_id = \"my-bigtable\"\n",
    "table_id = \"user_asset_snapshot\"\n",
    "dataflow_gcs_location = 'gs://forrest-bigdata-bucket/dataflow'\n",
    "\n",
    "# big table\n",
    "table_spec = f\"{project_id}:realtime.user_asset_snapshot\"\n",
    "table_schema = \"row_key:STRING, elem0:STRING, elem1:STRING, elem10:STRING, elem11:STRING\""
   ]
  },
  {
   "cell_type": "code",
   "execution_count": 2,
   "id": "cceb99ea-2bf3-4b84-803c-f12268c13614",
   "metadata": {},
   "outputs": [],
   "source": [
    "# Setting up the Beam pipeline options.\n",
    "options = pipeline_options.PipelineOptions()\n",
    "\n",
    "# Sets the pipeline mode to streaming, so we can stream the data from PubSub.\n",
    "options.view_as(pipeline_options.StandardOptions).streaming = True\n",
    "\n",
    "# Sets the project to the default project in your current Google Cloud environment.\n",
    "# The project will be used for creating a subscription to the PubSub topic.\n",
    "_, options.view_as(GoogleCloudOptions).project = google.auth.default()"
   ]
  },
  {
   "cell_type": "code",
   "execution_count": null,
   "id": "3633c7cd-ce64-4979-b6bf-99be9f66f303",
   "metadata": {},
   "outputs": [],
   "source": [
    "ib.options.recording_duration = '2m'"
   ]
  },
  {
   "cell_type": "markdown",
   "id": "cf2e59e6-74e4-4445-92be-240f13d58e8e",
   "metadata": {},
   "source": [
    "## write to bigtable"
   ]
  },
  {
   "cell_type": "code",
   "execution_count": 3,
   "id": "a5290484-23ba-48bb-bfc0-99b7d5d48339",
   "metadata": {},
   "outputs": [],
   "source": [
    "# class for buiding bigtable row\n",
    "class CreateRowFn(beam.DoFn):\n",
    "    def process(\n",
    "        self,\n",
    "        elem,\n",
    "        timestamp=beam.DoFn.TimestampParam,\n",
    "        window=beam.DoFn.WindowParam):\n",
    "        \n",
    "        from google.cloud.bigtable import row\n",
    "        import datetime\n",
    "\n",
    "\n",
    "        MAX_TS = 2147483647\n",
    "        ts_window = MAX_TS - int(window.end)\n",
    "        row_key = f\"{elem[0]}|{ts_window:010d}\"\n",
    "        direct_row = row.DirectRow(row_key=row_key)\n",
    "        ts_modified_at = elem[1][1] / 1000 / 1000\n",
    "        \n",
    "        # set balance\n",
    "        direct_row.set_cell(\n",
    "            'cf1',\n",
    "            'balance',\n",
    "            elem[1][0],\n",
    "            timestamp=datetime.datetime.utcfromtimestamp(ts_modified_at))\n",
    "        \n",
    "        direct_row.set_cell(\n",
    "            'cf1',\n",
    "            'modified_at',\n",
    "            str(elem[1][1]),\n",
    "            timestamp=datetime.datetime.utcfromtimestamp(ts_modified_at)) \n",
    "        \n",
    "        yield direct_row"
   ]
  },
  {
   "cell_type": "code",
   "execution_count": 4,
   "id": "1099f1bb-f8e1-47e3-a7dc-85b4b1101c03",
   "metadata": {},
   "outputs": [],
   "source": [
    "class TestFn(beam.DoFn):\n",
    "    def process(\n",
    "        self,\n",
    "        elem,\n",
    "        timestamp=beam.DoFn.TimestampParam,\n",
    "        window=beam.DoFn.WindowParam):\n",
    "        \n",
    "        from google.cloud.bigtable import row\n",
    "        import datetime\n",
    "\n",
    "\n",
    "        MAX_TS = 2147483647\n",
    "        ts_window = MAX_TS - int(window.end)\n",
    "        row_key = f\"{elem[0]}|{ts_window:010d}\"\n",
    "        # row_key = str(window.end)\n",
    "        direct_row = row.DirectRow(row_key=row_key)\n",
    "        # ts_modified_at = elem[1][1] / 1000 / 1000\n",
    "        \n",
    "        # set balance\n",
    "        direct_row.set_cell(\n",
    "            'cf1',\n",
    "            'balance',\n",
    "            '0.0',\n",
    "            timestamp=datetime.datetime.utcfromtimestamp(window.end))\n",
    "        \n",
    "        direct_row.set_cell(\n",
    "            'cf1',\n",
    "            'modified_at',\n",
    "            '123456',\n",
    "            timestamp=datetime.datetime.utcfromtimestamp(window.end)) \n",
    "        \n",
    "        yield direct_row"
   ]
  },
  {
   "cell_type": "code",
   "execution_count": 5,
   "id": "efc78d0b-8428-4fca-ab53-76a3efac84e9",
   "metadata": {},
   "outputs": [],
   "source": [
    "class CreateBqRowFn(beam.DoFn):\n",
    "    def process(\n",
    "        self,\n",
    "        elem,\n",
    "        timestamp=beam.DoFn.TimestampParam,\n",
    "        window=beam.DoFn.WindowParam):\n",
    "        \n",
    "        # from google.cloud.bigtable import row\n",
    "        # import datetime\n",
    "\n",
    "\n",
    "        MAX_TS = 2147483647\n",
    "        ts_window = MAX_TS - int(window.end)\n",
    "        row_key = f\"{elem[0]}|{ts_window:010d}\"\n",
    "        # row_key = str(window.end)\n",
    "        # direct_row = row.DirectRow(row_key=row_key)\n",
    "        # ts_modified_at = elem[1][1] / 1000 / 1000\n",
    "        \n",
    "        # set balance\n",
    "#         direct_row.set_cell(\n",
    "#             'cf1',\n",
    "#             'balance',\n",
    "#             '0.0',\n",
    "#             timestamp=datetime.datetime.utcfromtimestamp(window.end))\n",
    "        \n",
    "#         direct_row.set_cell(\n",
    "#             'cf1',\n",
    "#             'modified_at',\n",
    "#             '123456',\n",
    "#             timestamp=datetime.datetime.utcfromtimestamp(window.end)) \n",
    "        \n",
    "        data = {\n",
    "            \"row_key\": row_key,\n",
    "            \"elem0\": str(elem[0]),\n",
    "            \"elem1\": str(elem[1]),\n",
    "            \"elem10\": str(\"elem10\"),\n",
    "            \"elem11\": str(\"elem11\")\n",
    "            # \"elem10\": str(elem[1][0]),\n",
    "            # \"elem11\": str(elem[1][1])\n",
    "        }\n",
    "        \n",
    "        yield data"
   ]
  },
  {
   "cell_type": "code",
   "execution_count": 6,
   "id": "83d01212-7f6d-4ec5-8ac6-4ba92163d54e",
   "metadata": {},
   "outputs": [],
   "source": [
    "def upsert_event(elem):\n",
    "    return elem.get(\"op\", \"DoesNotExist\") in [\"c\", \"u\", \"r\"] and elem[\"source\"][\"db\"] == \"asset\" and elem[\"source\"][\"table\"] == \"user_asset\""
   ]
  },
  {
   "cell_type": "code",
   "execution_count": 7,
   "id": "179c78c6-aee0-4310-b9eb-23d1ac25e2a2",
   "metadata": {},
   "outputs": [],
   "source": [
    "def with_timestamp(elem):\n",
    "    from apache_beam.transforms.window import TimestampedValue\n",
    "    \n",
    "    ts = int(elem[\"source\"][\"ts_ms\"] / 1000)\n",
    "    key = f'{elem[\"after\"][\"user_id\"]:012d}|{elem[\"after\"][\"token\"]}'\n",
    "    value = (elem[\"after\"][\"balance\"], elem['after']['modified_at'], ts)\n",
    "\n",
    "    pair = (key, value)\n",
    "    \n",
    "    return TimestampedValue(pair, ts)   "
   ]
  },
  {
   "cell_type": "code",
   "execution_count": 8,
   "id": "1181f9b2-a835-462b-b059-13bebd234126",
   "metadata": {},
   "outputs": [
    {
     "data": {
      "application/javascript": [
       "\n",
       "        if (typeof window.interactive_beam_jquery == 'undefined') {\n",
       "          var jqueryScript = document.createElement('script');\n",
       "          jqueryScript.src = 'https://code.jquery.com/jquery-3.4.1.slim.min.js';\n",
       "          jqueryScript.type = 'text/javascript';\n",
       "          jqueryScript.onload = function() {\n",
       "            var datatableScript = document.createElement('script');\n",
       "            datatableScript.src = 'https://cdn.datatables.net/1.10.20/js/jquery.dataTables.min.js';\n",
       "            datatableScript.type = 'text/javascript';\n",
       "            datatableScript.onload = function() {\n",
       "              window.interactive_beam_jquery = jQuery.noConflict(true);\n",
       "              window.interactive_beam_jquery(document).ready(function($){\n",
       "                \n",
       "              });\n",
       "            }\n",
       "            document.head.appendChild(datatableScript);\n",
       "          };\n",
       "          document.head.appendChild(jqueryScript);\n",
       "        } else {\n",
       "          window.interactive_beam_jquery(document).ready(function($){\n",
       "            \n",
       "          });\n",
       "        }"
      ]
     },
     "metadata": {},
     "output_type": "display_data"
    }
   ],
   "source": [
    "# p = beam.Pipeline(interactive_runner.InteractiveRunner(), options=options)\n",
    "p = beam.Pipeline(options=options)\n",
    "latest_elements_per_key = (\n",
    "    p\n",
    "    | \"read from pubsub\" >> beam.io.ReadFromPubSub(subscription=subscription)\n",
    "    | 'transform to json' >> beam.Map(json.loads)\n",
    "    | 'filter cdc event' >> beam.Filter(upsert_event)\n",
    "    | 'with timestamps' >> beam.Map(with_timestamp)\n",
    "    | 'window' >> beam.WindowInto(\n",
    "        beam.window.FixedWindows(60),\n",
    "        trigger=trigger.AfterWatermark(\n",
    "            # early=trigger.AfterProcessingTime(delay=1 * 10), \n",
    "            late=trigger.AfterCount(1)),\n",
    "        # timestamp_combiner=beam.window.TimestampCombiner.OUTPUT_AT_LATEST,\n",
    "        allowed_lateness=1800,\n",
    "        accumulation_mode=AccumulationMode.DISCARDING)\n",
    "    | 'Get latest elements per key' >> beam.combiners.Latest.PerKey()\n",
    "    | 'Filter out empty element' >> beam.Filter(lambda elem: elem and elem[0] and elem[1])\n",
    "    # | 'Build bigquery row' >> beam.ParDo(CreateBqRowFn())\n",
    "    # | 'Write to bigquery' >> beam.io.WriteToBigQuery(\n",
    "    #     table_spec,\n",
    "    #     schema=table_schema,\n",
    "    #     create_disposition=beam.io.BigQueryDisposition.CREATE_IF_NEEDED)\n",
    "    # | 'Write to gs' >> WriteToText(dataflow_gcs_location + \"/beam-data\")\n",
    "    | 'Build bigtable row' >> beam.ParDo(CreateRowFn())\n",
    "    | 'Write to bigtable' >> WriteToBigTable(\n",
    "        project_id=project_id,\n",
    "        instance_id=instance_id,\n",
    "        table_id=table_id)\n",
    ")"
   ]
  },
  {
   "cell_type": "code",
   "execution_count": null,
   "id": "891d1312-7fa9-4f18-ad7a-0585770d541b",
   "metadata": {},
   "outputs": [],
   "source": [
    "ib.show(latest_elements_per_key, include_window_info=True)"
   ]
  },
  {
   "cell_type": "code",
   "execution_count": null,
   "id": "72ff96f1-3b6b-49b2-8074-ffebcfe76333",
   "metadata": {},
   "outputs": [],
   "source": [
    "ib.collect(latest_elements_per_key, include_window_info=True, duration=120)"
   ]
  },
  {
   "cell_type": "markdown",
   "id": "1deb2a4b-cad3-4ed6-a113-472683fa4267",
   "metadata": {},
   "source": [
    "# submit dataflow runner"
   ]
  },
  {
   "cell_type": "code",
   "execution_count": 9,
   "id": "96817e6a-9e00-4436-b45f-a7fee7075b06",
   "metadata": {},
   "outputs": [],
   "source": [
    "from apache_beam.runners import DataflowRunner\n",
    "\n",
    "\n",
    "# Set the Google Cloud region to run Dataflow.\n",
    "options.view_as(GoogleCloudOptions).region = 'us-central1'\n",
    "\n",
    "\n",
    "# Set the staging location. This location is used to stage the\n",
    "# Dataflow pipeline and SDK binary.\n",
    "options.view_as(GoogleCloudOptions).staging_location = '%s/staging' % dataflow_gcs_location\n",
    "\n",
    "# Set the temporary location. This location is used to store temporary files\n",
    "# or intermediate results before outputting to the sink.\n",
    "options.view_as(GoogleCloudOptions).temp_location = '%s/temp' % dataflow_gcs_location\n",
    "\n",
    "# Set the SDK location. This is used by Dataflow to locate the\n",
    "# SDK needed to run the pipeline.\n",
    "# options.view_as(pipeline_options.SetupOptions).sdk_location = (\n",
    "#     '/root/apache-beam-custom/packages/beam/sdks/python/dist/apache-beam-%s0.tar.gz' %\n",
    "#     beam.version.__version__)\n",
    "\n",
    "options.view_as(GoogleCloudOptions).job_name = f\"user-asset-snapshot-job-{int(datetime.datetime.utcnow().timestamp())}\"\n",
    "options.view_as(GoogleCloudOptions).service_account_email = \"notebook@forrest-test-project-333203.iam.gserviceaccount.com\"\n",
    "options.view_as(GoogleCloudOptions).enable_streaming_engine = True\n",
    "options.view_as(GoogleCloudOptions).update = False\n",
    "options.view_as(pipeline_options.WorkerOptions).network = \"bigdata-network\"\n",
    "options.view_as(pipeline_options.WorkerOptions).subnetwork = \"regions/us-central1/subnetworks/dataflow-network\"\n",
    "options.view_as(pipeline_options.WorkerOptions).use_public_ips = False\n",
    "options.view_as(pipeline_options.SetupOptions).save_main_session = False"
   ]
  },
  {
   "cell_type": "code",
   "execution_count": 10,
   "id": "0ea9683a-efe9-4dbf-b685-96852f3cf27e",
   "metadata": {},
   "outputs": [
    {
     "name": "stderr",
     "output_type": "stream",
     "text": [
      "WARNING:root:Make sure that locally built Python SDK docker image has Python 3.7 interpreter.\n",
      "WARNING:apache_beam.options.pipeline_options:Discarding unparseable args: ['-f', '/root/.local/share/jupyter/runtime/kernel-ea9d804c-179a-4427-a27d-883da7e67e72.json']\n",
      "WARNING:apache_beam.options.pipeline_options:Discarding unparseable args: ['-f', '/root/.local/share/jupyter/runtime/kernel-ea9d804c-179a-4427-a27d-883da7e67e72.json']\n"
     ]
    },
    {
     "data": {
      "text/plain": [
       "<DataflowPipelineResult <Job\n",
       " createTime: '2021-12-20T05:49:33.956026Z'\n",
       " currentStateTime: '1970-01-01T00:00:00Z'\n",
       " id: '2021-12-19_21_49_33-16093715343671654802'\n",
       " location: 'us-central1'\n",
       " name: 'user-asset-snapshot-job-1639979357'\n",
       " projectId: 'forrest-test-project-333203'\n",
       " stageStates: []\n",
       " startTime: '2021-12-20T05:49:33.956026Z'\n",
       " steps: []\n",
       " tempFiles: []\n",
       " type: TypeValueValuesEnum(JOB_TYPE_STREAMING, 2)> at 0x7f0fb00baa90>"
      ]
     },
     "execution_count": 10,
     "metadata": {},
     "output_type": "execute_result"
    }
   ],
   "source": [
    "runner = DataflowRunner()\n",
    "runner.run_pipeline(p, options=options)"
   ]
  },
  {
   "cell_type": "markdown",
   "id": "444ce365-05a0-4d13-829a-2c3474ea3b46",
   "metadata": {},
   "source": [
    "# Functions for retrieving data from hbase"
   ]
  },
  {
   "cell_type": "code",
   "execution_count": 134,
   "id": "38bb2551-94fa-4e53-aed0-baf5d300b467",
   "metadata": {},
   "outputs": [],
   "source": [
    "# supported interval: 1m, 5m, 15m, 30m, 1h, 4h, 1d\n",
    "# max time range is 30 days\n",
    "\n",
    "from google.cloud import bigtable\n",
    "from google.cloud.bigtable import column_family\n",
    "from google.cloud.bigtable import row_filters\n",
    "from google.cloud.bigtable import row\n",
    "\n",
    "client = bigtable.Client(project=project_id)\n",
    "instance = client.instance(instance_id)\n",
    "table = instance.table(table_id)\n",
    "base_datapoints = 60\n",
    "MAX_TS = 2147483647\n",
    "MIN_TS = 1483200000\n",
    "\n",
    "granularity_meta = {\n",
    "    \"1m\": {\"seconds\": 60 * 1, \"num_datapoints\": 1 * base_datapoints},\n",
    "    \"5m\": {\"seconds\": 60 * 5, \"num_datapoints\": 5 * base_datapoints},\n",
    "    \"15m\": {\"seconds\": 60 * 15, \"num_datapoints\": 15 * base_datapoints},\n",
    "    \"30m\": {\"seconds\": 60 * 30, \"num_datapoints\": 30 * base_datapoints},\n",
    "    \"1h\": {\"seconds\": 60 * 60, \"num_datapoints\": 60 * base_datapoints},\n",
    "    \"4h\": {\"seconds\": 60 * 60 * 4, \"num_datapoints\": 60 * 4 * base_datapoints},\n",
    "    \"1d\": {\"seconds\": 60 * 60 * 24, \"num_datapoints\": 60 * 24 * 30}\n",
    "}\n",
    "\n",
    "def get_user_asset_snapshots(user_id, token, start, end, granularity='1m'):\n",
    "    # check start and end\n",
    "    if start > end:\n",
    "        raise Exception(\"Error: Start time later than end time\")\n",
    "        \n",
    "    if not ((MIN_TS <= start <= MAX_TS) and (MIN_TS <= end <= MAX_TS)):\n",
    "        raise Exception(\"Error: Start or end time out of range\")\n",
    "    \n",
    "    # set start to max_range to avoid too much data being sent\n",
    "    start = end - granularity_meta[granularity][\"seconds\"] * granularity_meta[granularity][\"num_datapoints\"]\n",
    "    \n",
    "    \n",
    "    start_key = f\"{user_id:012d}|{token}|{(MAX_TS - end):010d}\".encode()\n",
    "    end_key = f\"{user_id:012d}|{token}|{(MAX_TS - start):010d}\".encode()\n",
    "    col_filter = row_filters.ColumnQualifierRegexFilter(b'balance')\n",
    "    \n",
    "    rows = table.read_rows(start_key=start_key, end_key=end_key,filter_=col_filter, end_inclusive=True)\n",
    "    \n",
    "    results = []\n",
    "    for row in rows:\n",
    "        # print(row.row_key.decode())\n",
    "        ts = MAX_TS - int(row.row_key.decode().split(\"|\")[2])\n",
    "        balance = row.cells['cf1'][b'balance'][0].value.decode()\n",
    "        \n",
    "        results.append((ts, balance))\n",
    "    \n",
    "    return results\n",
    "            \n",
    "def print_row(row):\n",
    "    print(\"Reading data for {}:\".format(row.row_key.decode('utf-8')))\n",
    "    for cf, cols in sorted(row.cells.items()):\n",
    "        print(\"Column Family {}\".format(cf))\n",
    "        for col, cells in sorted(cols.items()):\n",
    "            for cell in cells:\n",
    "                labels = \" [{}]\".format(\",\".join(cell.labels)) \\\n",
    "                    if len(cell.labels) else \"\"\n",
    "                print(\n",
    "                    \"\\t{}: {} @{}{}\".format(col.decode('utf-8'),\n",
    "                                            cell.value.decode('utf-8'),\n",
    "                                            cell.timestamp, labels))\n",
    "    print(\"\")   "
   ]
  },
  {
   "cell_type": "code",
   "execution_count": null,
   "id": "80267258-3d4b-4d16-852e-d54ba23790a9",
   "metadata": {},
   "outputs": [],
   "source": [
    "# plot time series\n",
    "from IPython.display import clear_output\n",
    "import matplotlib.pyplot as plt\n",
    "import numpy as np\n",
    "import seaborn as sns\n",
    "import pandas as pd\n",
    "%matplotlib inline\n",
    "\n",
    "\n",
    "def transform_result(input, granularity):\n",
    "    x = np.array([datetime.datetime.utcfromtimestamp(item[0]) for item in r])\n",
    "    # x = np.array([datetime.datetime.utcfromtimestamp(item[0]).strftime('%Y-%m-%d %H:%M:%S') for item in r])\n",
    "    y = np.array([float(item[1]) for item in r])\n",
    "\n",
    "    df = pd.DataFrame(data = {'time': x, 'balance': y})\n",
    "    df[\"time\"] = pd.to_datetime(df[\"time\"])\n",
    "    df.sort_values(by=[\"time\"], inplace=True)\n",
    "    df = df.set_index(\"time\").asfreq(\"1Min\")\n",
    "    df.fillna(method='ffill', inplace=True)\n",
    "    \n",
    "    # Filter timestamp according to granularity\n",
    "    if granularity != \"1m\":\n",
    "        interval = granularity_meta[granularity][\"seconds\"]\n",
    "        start = df.index[0].round(freq=f\"{interval}S\")\n",
    "        \n",
    "        ts_list = [start, ]\n",
    "        ts = start\n",
    "        for i in range(base_datapoints - 1):\n",
    "            ts += pd.Timedelta(seconds=interval)\n",
    "            ts_list.append(ts)\n",
    "        \n",
    "        df = df[df.index.isin(ts_list)]\n",
    "\n",
    "    # df.reset_index(level=0, inplace=True)\n",
    "    # df[\"time\"] = df[\"time\"].dt.strftime('%Y-%m-%d %H:%M:%S')\n",
    "    \n",
    "    return df.head(60)"
   ]
  },
  {
   "cell_type": "code",
   "execution_count": null,
   "id": "fe65307b-85bb-4e0b-bb80-cfbb98703e71",
   "metadata": {},
   "outputs": [],
   "source": [
    "now = int(datetime.datetime.utcnow().timestamp())\n",
    "r = get_user_asset_snapshots(213, \"CRV\", now - 60*60*24*7, now, granularity='5m')\n",
    "print(len(r))"
   ]
  },
  {
   "cell_type": "code",
   "execution_count": 144,
   "id": "ceeeae45-b4bd-4ada-8574-6b4c3a81ef8e",
   "metadata": {},
   "outputs": [
    {
     "name": "stdout",
     "output_type": "stream",
     "text": [
      "8.44 ms ± 810 µs per loop (mean ± std. dev. of 7 runs, 10 loops each)\n"
     ]
    }
   ],
   "source": [
    "%timeit -n10 get_user_asset_snapshots(213, \"CRV\", now - 60*60*24*7, now, granularity='1m')"
   ]
  },
  {
   "cell_type": "code",
   "execution_count": null,
   "id": "8b03406e-fb67-4f64-b0dd-d236113cf647",
   "metadata": {},
   "outputs": [],
   "source": [
    "%pip install seaborn"
   ]
  },
  {
   "cell_type": "code",
   "execution_count": 150,
   "id": "92a69f99-ab3e-4605-8208-aaa43a6d645a",
   "metadata": {},
   "outputs": [
    {
     "name": "stdout",
     "output_type": "stream",
     "text": [
      "balance    float64\n",
      "dtype: object\n",
      "                       balance\n",
      "time                          \n",
      "2021-12-10 06:00:00  44.116248\n",
      "2021-12-10 06:05:00  15.523691\n",
      "2021-12-10 06:10:00  47.429300\n",
      "2021-12-10 06:15:00  97.814643\n",
      "2021-12-10 06:20:00  68.468695\n",
      "2021-12-10 06:25:00  68.468695\n",
      "2021-12-10 06:30:00  69.595667\n",
      "2021-12-10 06:35:00  99.611821\n",
      "2021-12-10 06:40:00  91.998367\n",
      "2021-12-10 06:45:00  16.277275\n",
      "2021-12-10 06:50:00  18.240717\n",
      "2021-12-10 06:55:00  12.762508\n",
      "2021-12-10 07:00:00  99.217659\n",
      "2021-12-10 07:05:00  94.530169\n"
     ]
    }
   ],
   "source": [
    "df =transform_result(r, '5m')\n",
    "pd.set_option('display.max_rows', None)\n",
    "print(df.dtypes)\n",
    "print(df)"
   ]
  },
  {
   "cell_type": "code",
   "execution_count": 151,
   "id": "5910e32e-9de3-45e7-938f-b985b7d6ed56",
   "metadata": {},
   "outputs": [
    {
     "data": {
      "text/plain": [
       "<AxesSubplot:xlabel='time', ylabel='balance'>"
      ]
     },
     "execution_count": 151,
     "metadata": {},
     "output_type": "execute_result"
    },
    {
     "data": {
      "image/png": "[encoded data removed]",
      "text/plain": [
       "<Figure size 2160x720 with 1 Axes>"
      ]
     },
     "metadata": {},
     "output_type": "display_data"
    }
   ],
   "source": [
    "# draw figure\n",
    "clear_output(wait=True)\n",
    "plt.figure(figsize=(30,10))\n",
    "plt.xticks(\n",
    "    rotation=45, \n",
    "    horizontalalignment='right',\n",
    "    fontweight='light',\n",
    "    fontsize='large'  \n",
    ")\n",
    "sns.set_style(\"darkgrid\")\n",
    "sns.lineplot(x='time', y='balance', data=df)"
   ]
  },
  {
   "cell_type": "code",
   "execution_count": null,
   "id": "fda8596e-bc46-446b-b634-2836ed335366",
   "metadata": {},
   "outputs": [],
   "source": [
    "# print(df.index[0].round(freq=\"86400S\"))\n",
    "# print(df.loc['2021-12-08 15:00:00'])\n",
    "# print(df[df.index.isin(['2021-12-08 15:00:00',])])\n",
    "print(datetime.datetime.utcnow().timestamp())"
   ]
  },
  {
   "cell_type": "markdown",
   "id": "819b310b-b1be-4d12-8de6-44d8b2aa5918",
   "metadata": {},
   "source": [
    "000000000213|CRV|0508645617                                              column=cf1:balance, timestamp=1638838021000, value=4.39835667                                                                                                                                                            \n",
    " 000000000213|CRV|0508660447                                              column=cf1:balance, timestamp=1638823191000, value=72.77241980                                                                                                                                                           \n",
    " 000000000213|CRV|0508661747                                              column=cf1:balance, timestamp=1638821893000, value=33.87665605                                                                                                                                                           \n",
    " 000000000213|CRV|0508663567                                              column=cf1:balance, timestamp=1638820073000, value=82.98481280   "
   ]
  },
  {
   "cell_type": "code",
   "execution_count": null,
   "id": "f9c8b07a-31e7-4cad-90dd-dda1ae72e80e",
   "metadata": {},
   "outputs": [],
   "source": [
    "MAX_TS - 508663567 \n",
    "\n"
   ]
  },
  {
   "cell_type": "markdown",
   "id": "a49edb62-a597-4b18-a0e6-158554e6de9f",
   "metadata": {},
   "source": [
    "# tests"
   ]
  },
  {
   "cell_type": "code",
   "execution_count": null,
   "id": "023d0b06-00a9-4ee8-92c9-4af091edf183",
   "metadata": {},
   "outputs": [],
   "source": [
    "import apache_beam as beam\n",
    "import time\n",
    "\n",
    "def to_unix_time(time_str, format='%Y-%m-%d %H:%M:%S'):\n",
    "  return time.mktime(time.strptime(time_str, format))\n",
    "\n",
    "with beam.Pipeline() as pipeline:\n",
    "  latest_elements_per_key = (\n",
    "      pipeline\n",
    "      | 'Create crops' >> beam.Create([\n",
    "          ('spring', {\n",
    "              'item': '🥕', 'harvest': '2020-06-28 00:00:00'\n",
    "          }),\n",
    "          ('spring', {\n",
    "              'item': '🍓', 'harvest': '2020-06-16 00:00:00'\n",
    "          }),\n",
    "          ('summer', {\n",
    "              'item': '🥕', 'harvest': '2020-07-17 00:00:00'\n",
    "          }),\n",
    "          ('summer', {\n",
    "              'item': '🍓', 'harvest': '2020-08-26 00:00:00'\n",
    "          }),\n",
    "          ('summer', {\n",
    "              'item': '🍆', 'harvest': '2020-09-04 00:00:00'\n",
    "          }),\n",
    "          ('summer', {\n",
    "              'item': '🥬', 'harvest': '2020-09-18 00:00:00'\n",
    "          }),\n",
    "          ('summer', {\n",
    "              'item': '🍅', 'harvest': '2020-09-22 00:00:00'\n",
    "          }),\n",
    "          ('autumn', {\n",
    "              'item': '🍅', 'harvest': '2020-10-01 00:00:00'\n",
    "          }),\n",
    "          ('autumn', {\n",
    "              'item': '🥬', 'harvest': '2020-10-20 00:00:00'\n",
    "          }),\n",
    "          ('autumn', {\n",
    "              'item': '🍆', 'harvest': '2020-10-26 00:00:00'\n",
    "          }),\n",
    "          ('winter', {\n",
    "              'item': '🥬', 'harvest': '2020-02-24 00:00:00'\n",
    "          }),\n",
    "      ])\n",
    "      | 'With timestamps' >> beam.Map(\n",
    "          lambda pair: beam.window.TimestampedValue(\n",
    "              (pair[0], pair[1]['item']), to_unix_time(pair[1]['harvest'])))\n",
    "      | 'Get latest elements per key' >> beam.combiners.Latest.PerKey()\n",
    "      | beam.Map(print))"
   ]
  },
  {
   "cell_type": "code",
   "execution_count": null,
   "id": "2dc9b51f-f5ce-4617-b9bf-21a6d5dbb86c",
   "metadata": {},
   "outputs": [],
   "source": [
    "p = beam.Pipeline(interactive_runner.InteractiveRunner(), options=options)\n",
    "latest_elements_per_key = (\n",
    "    p\n",
    "    # | 'read from string' >> beam.Create(row_str)\n",
    "    | \"read from pubsub\" >> beam.io.ReadFromPubSub(subscription=subscription)\n",
    "    | 'transform to json' >> beam.Map(json.loads)\n",
    "    | 'with timestamps' >> beam.Map(lambda pair: beam.window.TimestampedValue(\n",
    "        (f'{pair[\"after\"][\"user_id\"]:012d}_{pair[\"after\"][\"token\"]}', (pair[\"after\"][\"balance\"], pair['after']['modified_at'])), int(pair['source']['ts_ms'] / 1000)))\n",
    "    | 'window' >> beam.WindowInto(\n",
    "        beam.window.FixedWindows(10),\n",
    "        trigger=trigger.AfterWatermark(early=trigger.AfterProcessingTime(delay=1 * 10), late=trigger.AfterCount(1)),\n",
    "        allowed_lateness=1800,\n",
    "        accumulation_mode=AccumulationMode.DISCARDING)\n",
    "    | 'Get latest elements per key' >> beam.combiners.Latest.PerKey()\n",
    "    # | 'Analyze element' >> beam.ParDo(AnalyzeElement())\n",
    "    # | beam.Map(print)\n",
    ")"
   ]
  },
  {
   "cell_type": "code",
   "execution_count": null,
   "id": "8905d64f-908b-4b73-9271-38cbf8407afe",
   "metadata": {},
   "outputs": [],
   "source": [
    "row_str=[\"\"\"{\"before\":{\"id\":1,\"user_id\":1,\"token\":\"BTC\",\"balance\":\"20.80000000\",\"created_at\":1638167717068549,\"modified_at\":1638359012470943},\"after\":{\"id\":1,\"user_id\":1,\"token\":\"BTC\",\"balance\":\"20.88000000\",\"created_at\":1638167717068549,\"modified_at\":1638370778828228},\"source\":{\"version\":\"1.7.1.Final\",\"connector\":\"mysql\",\"name\":\"asset\",\"ts_ms\":1638370778000,\"snapshot\":\"false\",\"db\":\"asset\",\"sequence\":null,\"table\":\"user_asset\",\"server_id\":3915504808,\"gtid\":\"be7fd595-50c2-11ec-bca5-4201c0a80402:43263\",\"file\":\"mysql-bin.000001\",\"pos\":19381107,\"row\":0,\"thread\":null,\"query\":null},\"op\":\"u\",\"ts_ms\":1638370778836,\"transaction\":null}\"\"\"]"
   ]
  },
  {
   "cell_type": "code",
   "execution_count": null,
   "id": "bbd133d1-836d-4f7f-bab7-00845aa22d4a",
   "metadata": {},
   "outputs": [],
   "source": [
    "row_str.append(\"\"\"{\"before\":{\"id\":1,\"user_id\":1,\"token\":\"BTC\",\"balance\":\"20.80000000\",\"created_at\":1638167717068549,\"modified_at\":1638359012470943},\"after\":{\"id\":1,\"user_id\":1,\"token\":\"BTC\",\"balance\":\"26.88000000\",\"created_at\":1638167717068549,\"modified_at\":1638370778828228},\"source\":{\"version\":\"1.7.1.Final\",\"connector\":\"mysql\",\"name\":\"asset\",\"ts_ms\":1638370788000,\"snapshot\":\"false\",\"db\":\"asset\",\"sequence\":null,\"table\":\"user_asset\",\"server_id\":3915504808,\"gtid\":\"be7fd595-50c2-11ec-bca5-4201c0a80402:43263\",\"file\":\"mysql-bin.000001\",\"pos\":19381107,\"row\":0,\"thread\":null,\"query\":null},\"op\":\"u\",\"ts_ms\":1638370778836,\"transaction\":null}\"\"\")\n",
    "row_str.append(\"\"\"{\"before\":{\"id\":1,\"user_id\":1,\"token\":\"BTC\",\"balance\":\"20.80000000\",\"created_at\":1638167717068549,\"modified_at\":1638359012470943},\"after\":{\"id\":1,\"user_id\":1,\"token\":\"BTC\",\"balance\":\"21.88000000\",\"created_at\":1638167717068549,\"modified_at\":1638370778828228},\"source\":{\"version\":\"1.7.1.Final\",\"connector\":\"mysql\",\"name\":\"asset\",\"ts_ms\":1638370789000,\"snapshot\":\"false\",\"db\":\"asset\",\"sequence\":null,\"table\":\"user_asset\",\"server_id\":3915504808,\"gtid\":\"be7fd595-50c2-11ec-bca5-4201c0a80402:43263\",\"file\":\"mysql-bin.000001\",\"pos\":19381107,\"row\":0,\"thread\":null,\"query\":null},\"op\":\"u\",\"ts_ms\":1638370778836,\"transaction\":null}\"\"\")\n",
    "row_str.append(\"\"\"{\"before\":{\"id\":1,\"user_id\":1,\"token\":\"BTC\",\"balance\":\"20.80000000\",\"created_at\":1638167717068549,\"modified_at\":1638359012470943},\"after\":{\"id\":1,\"user_id\":1,\"token\":\"BTC\",\"balance\":\"22.88000000\",\"created_at\":1638167717068549,\"modified_at\":1638370778828228},\"source\":{\"version\":\"1.7.1.Final\",\"connector\":\"mysql\",\"name\":\"asset\",\"ts_ms\":1638370799000,\"snapshot\":\"false\",\"db\":\"asset\",\"sequence\":null,\"table\":\"user_asset\",\"server_id\":3915504808,\"gtid\":\"be7fd595-50c2-11ec-bca5-4201c0a80402:43263\",\"file\":\"mysql-bin.000001\",\"pos\":19381107,\"row\":0,\"thread\":null,\"query\":null},\"op\":\"u\",\"ts_ms\":1638370778836,\"transaction\":null}\"\"\")\n",
    "row_str.append(\"\"\"{\"before\":{\"id\":1,\"user_id\":1,\"token\":\"BTC\",\"balance\":\"20.80000000\",\"created_at\":1638167717068549,\"modified_at\":1638359012470943},\"after\":{\"id\":1,\"user_id\":1,\"token\":\"BTC\",\"balance\":\"23.88000000\",\"created_at\":1638167717068549,\"modified_at\":1638370778828228},\"source\":{\"version\":\"1.7.1.Final\",\"connector\":\"mysql\",\"name\":\"asset\",\"ts_ms\":1638370810000,\"snapshot\":\"false\",\"db\":\"asset\",\"sequence\":null,\"table\":\"user_asset\",\"server_id\":3915504808,\"gtid\":\"be7fd595-50c2-11ec-bca5-4201c0a80402:43263\",\"file\":\"mysql-bin.000001\",\"pos\":19381107,\"row\":0,\"thread\":null,\"query\":null},\"op\":\"u\",\"ts_ms\":1638370778836,\"transaction\":null}\"\"\")"
   ]
  },
  {
   "cell_type": "code",
   "execution_count": null,
   "id": "28d07494-bdb5-47ff-b200-2cdcfbd59495",
   "metadata": {},
   "outputs": [],
   "source": [
    "class AnalyzeElement(beam.DoFn):\n",
    "  def process(\n",
    "      self,\n",
    "      elem,\n",
    "      timestamp=beam.DoFn.TimestampParam,\n",
    "      window=beam.DoFn.WindowParam):\n",
    "    yield elem + ('\\n'.join([\n",
    "        'timestamp.to_rfc3339() -> ' + repr(timestamp.to_rfc3339()),\n",
    "        'window.start -> {} ({})'.format(\n",
    "            window.start, window.start.to_utc_datetime()),\n",
    "        'window.end -> {} ({})'.format(\n",
    "            window.end, window.end.to_utc_datetime()),\n",
    "        'window.max_timestamp() -> {} ({})'.format(\n",
    "            window.max_timestamp(), window.max_timestamp().to_utc_datetime()),\n",
    "        ''\n",
    "    ]),)"
   ]
  },
  {
   "cell_type": "code",
   "execution_count": null,
   "id": "38af7139-0908-4b0b-8626-87c9409f11ee",
   "metadata": {},
   "outputs": [],
   "source": [
    "1638370778 Wednesday, December 1, 2021 2:59:38 PM\n",
    "1638370788 Wednesday, December 1, 2021 2:59:48 PM\n",
    "1638370789 Wednesday, December 1, 2021 2:59:49 PM\n",
    "1638370799\n",
    "1638370810"
   ]
  },
  {
   "cell_type": "code",
   "execution_count": null,
   "id": "3c74293f-15ca-41e4-9b35-956fa68578c4",
   "metadata": {},
   "outputs": [],
   "source": [
    "google.auth.default()"
   ]
  },
  {
   "cell_type": "code",
   "execution_count": null,
   "id": "86d672ec-2bbf-4723-963d-5be5d3712725",
   "metadata": {},
   "outputs": [],
   "source": [
    "from apache_beam.utils.timestamp import Timestamp\n",
    "a = Timestamp.of(121212121)"
   ]
  },
  {
   "cell_type": "code",
   "execution_count": null,
   "id": "d78def0e-bed3-4889-899e-586766544a74",
   "metadata": {},
   "outputs": [],
   "source": [
    "a"
   ]
  },
  {
   "cell_type": "code",
   "execution_count": null,
   "id": "470a6eb3-573b-423f-9ea6-dfb97c73496c",
   "metadata": {},
   "outputs": [],
   "source": [
    "a.to_rfc3339()"
   ]
  },
  {
   "cell_type": "code",
   "execution_count": null,
   "id": "2b5c4040-6ed3-4760-a386-b0332d4a8bae",
   "metadata": {},
   "outputs": [],
   "source": [
    "2147483647-508959076"
   ]
  },
  {
   "cell_type": "code",
   "execution_count": null,
   "id": "a310cd1a-ea6f-430b-9ba1-68072ed73626",
   "metadata": {},
   "outputs": [],
   "source": [
    "a=100\n",
    "f\"{a:010d}\".encode() == f\"{a:010d}\""
   ]
  },
  {
   "cell_type": "code",
   "execution_count": null,
   "id": "e592a378-14c0-4dc8-98dc-f2a721028c14",
   "metadata": {},
   "outputs": [],
   "source": [
    "print(int(datetime.datetime.utcnow().timestamp()))"
   ]
  },
  {
   "cell_type": "code",
   "execution_count": null,
   "id": "0921eaca-b409-4716-a879-fc4dece6bea9",
   "metadata": {},
   "outputs": [],
   "source": [
    "datetime.datetime.utcfromtimestamp(1638884990.123456)"
   ]
  },
  {
   "cell_type": "code",
   "execution_count": null,
   "id": "844ccbb7-4122-4bd7-a52b-db3f33849d51",
   "metadata": {},
   "outputs": [],
   "source": [
    "str((\"abc\", 123))"
   ]
  },
  {
   "cell_type": "code",
   "execution_count": 15,
   "id": "dfe47f38-021a-455d-9416-8e32c097122e",
   "metadata": {},
   "outputs": [
    {
     "data": {
      "text/plain": [
       "False"
      ]
     },
     "execution_count": 15,
     "metadata": {},
     "output_type": "execute_result"
    }
   ],
   "source": [
    "a={\"oop\": \"abc\"}\n",
    "a.get(\"op\", \"DoesNotExist\") in (\"abc\",)"
   ]
  },
  {
   "cell_type": "code",
   "execution_count": null,
   "id": "4c03ea50-4fa8-45c5-a3ec-5da5e1d33602",
   "metadata": {},
   "outputs": [],
   "source": []
  }
 ],
 "metadata": {
  "kernelspec": {
   "display_name": "1. Apache Beam 2.33.0 for Python 3",
   "language": "python",
   "name": "1-apache-beam-2.33.0"
  },
  "language_info": {
   "codemirror_mode": {
    "name": "ipython",
    "version": 3
   },
   "file_extension": ".py",
   "mimetype": "text/x-python",
   "name": "python",
   "nbconvert_exporter": "python",
   "pygments_lexer": "ipython3",
   "version": "3.7.12"
  }
 },
 "nbformat": 4,
 "nbformat_minor": 5
}
